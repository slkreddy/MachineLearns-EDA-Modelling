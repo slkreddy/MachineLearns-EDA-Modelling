{
 "cells": [
  {
   "cell_type": "markdown",
   "metadata": {},
   "source": [
    "### 1. Setting up\n",
    "\n",
    "#### Importing matplotlib\n",
    "\n",
    "Just as we use the `np` shorthand for NumPy and the `pd` shorthand for Pandas, we will use standard shorthands for Matplotlib import:\n",
    "\n",
    "```python\n",
    "import matplotlib.pyplot as plt\n",
    "```\n",
    "We import the **pyplot** interface of matplotlib with a shorthand of `plt` and we will be using it like this in the entire notebook.\n",
    "\n",
    "#### Matplotlib for Jupyter notebook\n",
    "\n",
    "You can directly use matplotlib with this notebook to create different visualizations in the notebook itself. In order to do that, the following command is used:\n",
    "\n",
    "```python\n",
    "%matplotlib inline\n",
    "```\n",
    "\n",
    "#### Documentation\n",
    "All the functions covered in this notebook and their detail description can be found in the [official matplotlib documentation](https://matplotlib.org/3.1.0/api/_as_gen/matplotlib.pyplot.html)."
   ]
  },
  {
   "cell_type": "code",
   "execution_count": null,
   "metadata": {},
   "outputs": [],
   "source": [
    "# importing required libraries\n",
    "import numpy as np\n",
    "import pandas as pd\n",
    "\n",
    "# importing matplotlib\n",
    "import matplotlib.pyplot as plt\n",
    "\n",
    "# display plots in the notebook itself\n",
    "%matplotlib inline"
   ]
  },
  {
   "cell_type": "markdown",
   "metadata": {},
   "source": [
    "### 2. Matplotlib basics\n",
    "\n",
    "#### Make a simple plot\n",
    "\n",
    "Let's create a basic plot to start working with!"
   ]
  },
  {
   "cell_type": "code",
   "execution_count": null,
   "metadata": {},
   "outputs": [],
   "source": [
    "ht = [150, 160, 165, 185]\n",
    "wt = [70, 80, 90, 100]\n",
    "\n",
    "plt.plot(ht,wt)\n",
    "plt.title(\" Rel between Height and Weight\")\n",
    "plt.xlabel(\"height\")\n",
    "plt.ylabel(\"weight\")"
   ]
  },
  {
   "cell_type": "code",
   "execution_count": null,
   "metadata": {},
   "outputs": [],
   "source": [
    "calories_burnt=[65, 75, 89, 99]\n",
    "plt.figure(figsize=(15,5))\n",
    "\n",
    "\n",
    "plt.plot(wt,'go')\n",
    "plt.plot(calories_burnt, 'r--')\n",
    "plt.legend(labels=['wt', 'calories_burnt'], loc='lower right')\n",
    "plt.xticks(ticks=[0,1,2,3], labels=['p1','p2','p3','p4']);"
   ]
  },
  {
   "cell_type": "code",
   "execution_count": null,
   "metadata": {},
   "outputs": [],
   "source": [
    "data_BM=pd.read_csv(\"bigmart_data.csv\")\n",
    "data = data_BM[['Item_Weight', 'Item_MRP']]\n",
    "plt.boxplot(data)"
   ]
  },
  {
   "cell_type": "code",
   "execution_count": null,
   "metadata": {},
   "outputs": [],
   "source": []
  },
  {
   "cell_type": "code",
   "execution_count": null,
   "metadata": {},
   "outputs": [],
   "source": []
  }
 ],
 "metadata": {
  "kernelspec": {
   "display_name": "Python 3",
   "language": "python",
   "name": "python3"
  },
  "language_info": {
   "codemirror_mode": {
    "name": "ipython",
    "version": 3
   },
   "file_extension": ".py",
   "mimetype": "text/x-python",
   "name": "python",
   "nbconvert_exporter": "python",
   "pygments_lexer": "ipython3",
   "version": "3.7.7"
  }
 },
 "nbformat": 4,
 "nbformat_minor": 2
}
